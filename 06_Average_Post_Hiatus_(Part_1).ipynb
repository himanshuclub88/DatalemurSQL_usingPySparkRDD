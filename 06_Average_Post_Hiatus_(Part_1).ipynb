{
 "cells": [
  {
   "cell_type": "markdown",
   "metadata": {},
   "source": [
    "# Average Post Hiatus (Part 1)\n",
    "\n",
    "## Facebook SQL Interview Question\n",
    "\n",
    "### Question\n",
    "\n",
    "Given a table of Facebook posts, for each user who posted at least twice in 2021, write a query to find the number of days between each user’s first post of the year and last post of the year in the year 2021. Output the user and number of the days between each user's first and last post.\n",
    "\n",
    "---\n",
    "\n",
    "p.s. If you've read the Ace the Data Science Interview and liked it, consider writing us a review?\n",
    "\n",
    "---\n",
    "\n",
    "### Table: `posts`\n",
    "\n",
    "| Column Name   | Type       |\n",
    "|---------------|------------|\n",
    "| user_id       | integer    |\n",
    "| post_id       | integer    |\n",
    "| post_content  | text       |\n",
    "| post_date     | timestamp  |\n",
    "\n",
    "---\n",
    "\n",
    "### Example Input for `posts` Table:\n",
    "\n",
    "| user_id | post_id | post_content                                                                 | post_date               |\n",
    "|---------|---------|-------------------------------------------------------------------------------|-------------------------|\n",
    "| 151652  | 599415  | Need a hug                                                                   | 07/10/2021 12:00:00     |\n",
    "| 661093  | 624356  | Bed. Class 8-12. Work 12-3. Gym 3-5 or 6. Then class 6-10. Another day that's gonna fly by. I miss my girlfriend | 07/29/2021 13:00:00     |\n",
    "| 004239  | 784254  | Happy 4th of July!                                                           | 07/04/2021 11:00:00     |\n",
    "| 661093  | 442560  | Just going to cry myself to sleep after watching Marley and Me.               | 07/08/2021 14:00:00     |\n",
    "| 151652  | 111766  | I'm so done with covid - need travelling ASAP!                               | 07/12/2021 19:00:00     |\n",
    "\n",
    "---\n",
    "\n",
    "### Example Output:\n",
    "\n",
    "| user_id | days_between |\n",
    "|---------|--------------|\n",
    "| 151652  | 2            |\n",
    "| 661093  | 21           |\n",
    "\n",
    "---\n",
    "\n",
    "### Explanation\n",
    "\n",
    "For **user 151652**, the first post was on **07/10/2021** and the last post was on **07/12/2021**. The number of days between these posts is **2**.  \n",
    "For **user 661093**, the first post was on **07/08/2021** and the last post was on **07/29/2021**. The number of days between these posts is **21**.\n"
   ]
  },
  {
   "cell_type": "code",
   "execution_count": 3,
   "metadata": {},
   "outputs": [
    {
     "name": "stdout",
     "output_type": "stream",
     "text": [
      "+------+------+----------------------------------------------------------------------------------------------------------------+-------------------+\n",
      "|_1    |_2    |_3                                                                                                              |_4                 |\n",
      "+------+------+----------------------------------------------------------------------------------------------------------------+-------------------+\n",
      "|151652|599415|Need a hug                                                                                                      |2021-07-10 12:00:00|\n",
      "|661093|624356|Bed. Class 8-12. Work 12-3. Gym 3-5 or 6. Then class 6-10. Another day that's gonna fly by. I miss my girlfriend|2021-07-29 13:00:00|\n",
      "|4239  |784254|Happy 4th of July!                                                                                              |2021-07-04 11:00:00|\n",
      "|661093|442560|Just going to cry myself to sleep after watching Marley and Me.                                                 |2021-07-08 14:00:00|\n",
      "|151652|111766|I'm so done with covid - need travelling ASAP!                                                                  |2021-07-12 19:00:00|\n",
      "+------+------+----------------------------------------------------------------------------------------------------------------+-------------------+\n",
      "\n"
     ]
    }
   ],
   "source": [
    "from pyspark.sql import SparkSession\n",
    "from pyspark.sql.types import StructType, StructField, IntegerType, StringType, TimestampType\n",
    "from datetime import datetime\n",
    "\n",
    "# Create Spark session\n",
    "spark = SparkSession.builder.master('local[1]').getOrCreate()\n",
    "sc = spark.sparkContext\n",
    "\n",
    "# Define the data for posts table\n",
    "df = sc.parallelize([\n",
    "    (151652, 599415, \"Need a hug\", datetime(2021, 7, 10, 12, 0)),\n",
    "    (661093, 624356, \"Bed. Class 8-12. Work 12-3. Gym 3-5 or 6. Then class 6-10. Another day that's gonna fly by. I miss my girlfriend\", datetime(2021, 7, 29, 13, 0)),\n",
    "    (4239, 784254, \"Happy 4th of July!\", datetime(2021, 7, 4, 11, 0)),\n",
    "    (661093, 442560, \"Just going to cry myself to sleep after watching Marley and Me.\", datetime(2021, 7, 8, 14, 0)),\n",
    "    (151652, 111766, \"I'm so done with covid - need travelling ASAP!\", datetime(2021, 7, 12, 19, 0))\n",
    "])\n",
    "\n",
    "# Create the Spark DataFrame\n",
    "\n",
    "\n",
    "# Show the DataFrame\n",
    "df.toDF().show(truncate=False)\n"
   ]
  },
  {
   "cell_type": "code",
   "execution_count": null,
   "metadata": {},
   "outputs": [
    {
     "name": "stdout",
     "output_type": "stream",
     "text": [
      "+-------+------------------------------------+\n",
      "|user_id|day_between                         |\n",
      "+-------+------------------------------------+\n",
      "|151652 |INTERVAL '2 07:00:00' DAY TO SECOND |\n",
      "|661093 |INTERVAL '20 23:00:00' DAY TO SECOND|\n",
      "+-------+------------------------------------+\n",
      "\n"
     ]
    }
   ],
   "source": [
    "df2=df.map(lambda x:(x[0],(x[3],x[3])))\\\n",
    "      .reduceByKey(lambda x,y:(max(x[0],y[0]),min(x[1],y[1])))\\\n",
    "      .filter(lambda x: x[1][0] != x[1][1])\\\n",
    "      .map(lambda x:(x[0], (x[1][0]-x[1][1])))\\\n",
    "      \n",
    "df2.toDF(['user_id','day_between']).show(truncate=False)\n",
    "# THIS WILL NOT GIVE ACURATE ANSWER SINCE THEY IS ASKING FOR ROUNDED DATE SO INCASE 20 DAYS +23 HOURS IS 21 DAYS WE CAN DO THAT BY CONVERTING TO DATE  LIKE BELOW"
   ]
  },
  {
   "cell_type": "code",
   "execution_count": 8,
   "metadata": {},
   "outputs": [
    {
     "name": "stdout",
     "output_type": "stream",
     "text": [
      "+-------+-----------+\n",
      "|user_id|day_between|\n",
      "+-------+-----------+\n",
      "|151652 |2          |\n",
      "|661093 |21         |\n",
      "+-------+-----------+\n",
      "\n"
     ]
    }
   ],
   "source": [
    "df2 = df.map(lambda x: (x[0], (x[3].date(), x[3].date()))) \\\n",
    "        .reduceByKey(lambda x, y: (max(x[0], y[0]), min(x[1], y[1]))) \\\n",
    "        .filter(lambda x: x[1][0] != x[1][1]) \\\n",
    "        .map(lambda x: (x[0], (x[1][0] - x[1][1]).days))\n",
    "\n",
    "df2.toDF(['user_id','day_between']).show(truncate=False)"
   ]
  }
 ],
 "metadata": {
  "kernelspec": {
   "display_name": "Python 3",
   "language": "python",
   "name": "python3"
  },
  "language_info": {
   "codemirror_mode": {
    "name": "ipython",
    "version": 3
   },
   "file_extension": ".py",
   "mimetype": "text/x-python",
   "name": "python",
   "nbconvert_exporter": "python",
   "pygments_lexer": "ipython3",
   "version": "3.11.0"
  }
 },
 "nbformat": 4,
 "nbformat_minor": 2
}
