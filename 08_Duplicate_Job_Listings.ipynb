{
 "cells": [
  {
   "cell_type": "markdown",
   "metadata": {},
   "source": [
    "# Duplicate Job Listings\n",
    "\n",
    "## LinkedIn SQL Interview Question\n",
    "\n",
    "### Question\n",
    "\n",
    "Assume you're given a table containing job postings from various companies on the LinkedIn platform. Write a query to retrieve the count of companies that have posted duplicate job listings.\n",
    "\n",
    "---\n",
    "\n",
    "### Definition:\n",
    "\n",
    "Duplicate job listings are defined as two job listings within the same company that share identical titles and descriptions.\n",
    "\n",
    "---\n",
    "\n",
    "### Table: `job_listings`\n",
    "\n",
    "| Column Name   | Type       |\n",
    "|---------------|------------|\n",
    "| job_id        | integer    |\n",
    "| company_id    | integer    |\n",
    "| title         | string     |\n",
    "| description   | string     |\n",
    "\n",
    "---\n",
    "\n",
    "### Example Input for `job_listings` Table:\n",
    "\n",
    "| job_id | company_id | title          | description                                                                 |\n",
    "|--------|------------|----------------|-----------------------------------------------------------------------------|\n",
    "| 248    | 827        | Business Analyst | Business analyst evaluates past and current business data with the primary goal of improving decision-making processes within organizations. |\n",
    "| 149    | 845        | Business Analyst | Business analyst evaluates past and current business data with the primary goal of improving decision-making processes within organizations. |\n",
    "| 945    | 345        | Data Analyst   | Data analyst reviews data to identify key insights into a business's customers and ways the data can be used to solve problems. |\n",
    "| 164    | 345        | Data Analyst   | Data analyst reviews data to identify key insights into a business's customers and ways the data can be used to solve problems. |\n",
    "| 172    | 244        | Data Engineer  | Data engineer works in a variety of settings to build systems that collect, manage, and convert raw data into usable information for data scientists and business analysts to interpret. |\n",
    "\n",
    "---\n",
    "\n",
    "### Example Output:\n",
    "\n",
    "| duplicate_companies |\n",
    "|---------------------|\n",
    "| 1                   |\n",
    "\n",
    "---\n",
    "\n",
    "### Explanation\n",
    "\n",
    "There is one company ID **345** that posted duplicate job listings. The duplicate listings, IDs **945** and **164**, have identical titles and descriptions.\n"
   ]
  },
  {
   "cell_type": "code",
   "execution_count": 1,
   "metadata": {},
   "outputs": [
    {
     "name": "stdout",
     "output_type": "stream",
     "text": [
      "+---+---+----------------+----------------------------------------------------------------------------------------------------------------------------------------------------------------------------------------+\n",
      "|_1 |_2 |_3              |_4                                                                                                                                                                                      |\n",
      "+---+---+----------------+----------------------------------------------------------------------------------------------------------------------------------------------------------------------------------------+\n",
      "|248|827|Business Analyst|Business analyst evaluates past and current business data with the primary goal of improving decision-making processes within organizations.                                            |\n",
      "|149|845|Business Analyst|Business analyst evaluates past and current business data with the primary goal of improving decision-making processes within organizations.                                            |\n",
      "|945|345|Data Analyst    |Data analyst reviews data to identify key insights into a business's customers and ways the data can be used to solve problems.                                                         |\n",
      "|164|345|Data Analyst    |Data analyst reviews data to identify key insights into a business's customers and ways the data can be used to solve problems.                                                         |\n",
      "|172|244|Data Engineer   |Data engineer works in a variety of settings to build systems that collect, manage, and convert raw data into usable information for data scientists and business analysts to interpret.|\n",
      "+---+---+----------------+----------------------------------------------------------------------------------------------------------------------------------------------------------------------------------------+\n",
      "\n"
     ]
    }
   ],
   "source": [
    "from pyspark.sql import SparkSession\n",
    "from pyspark.sql.types import StructType, StructField, IntegerType, StringType\n",
    "from datetime import datetime\n",
    "\n",
    "# Create Spark session\n",
    "spark = SparkSession.builder.appName(\"JobListings\").getOrCreate()\n",
    "sc = spark.sparkContext\n",
    "\n",
    "# Define the data for job_listings table\n",
    "df = sc.parallelize([\n",
    "    (248, 827, \"Business Analyst\", \"Business analyst evaluates past and current business data with the primary goal of improving decision-making processes within organizations.\"),\n",
    "    (149, 845, \"Business Analyst\", \"Business analyst evaluates past and current business data with the primary goal of improving decision-making processes within organizations.\"),\n",
    "    (945, 345, \"Data Analyst\", \"Data analyst reviews data to identify key insights into a business's customers and ways the data can be used to solve problems.\"),\n",
    "    (164, 345, \"Data Analyst\", \"Data analyst reviews data to identify key insights into a business's customers and ways the data can be used to solve problems.\"),\n",
    "    (172, 244, \"Data Engineer\", \"Data engineer works in a variety of settings to build systems that collect, manage, and convert raw data into usable information for data scientists and business analysts to interpret.\")\n",
    "])\n",
    "\n",
    "\n",
    "# Show the DataFrame\n",
    "df.toDF().show(truncate=False)\n"
   ]
  },
  {
   "cell_type": "code",
   "execution_count": null,
   "metadata": {},
   "outputs": [],
   "source": [
    "df.map(lambda x:((x[1],x[2],x[3]),x[0]))\\\n",
    "  .redcuceBy"
   ]
  }
 ],
 "metadata": {
  "kernelspec": {
   "display_name": "Python 3",
   "language": "python",
   "name": "python3"
  },
  "language_info": {
   "codemirror_mode": {
    "name": "ipython",
    "version": 3
   },
   "file_extension": ".py",
   "mimetype": "text/x-python",
   "name": "python",
   "nbconvert_exporter": "python",
   "pygments_lexer": "ipython3",
   "version": "3.11.0"
  }
 },
 "nbformat": 4,
 "nbformat_minor": 2
}
