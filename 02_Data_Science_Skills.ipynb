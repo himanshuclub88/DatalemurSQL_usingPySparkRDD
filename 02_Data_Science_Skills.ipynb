{
 "cells": [
  {
   "cell_type": "markdown",
   "metadata": {},
   "source": [
    "# Data Science Skills\n",
    "\n",
    "## LinkedIn SQL Interview Question\n",
    "\n",
    "### Question\n",
    "\n",
    "Given a table of candidates and their skills, you're tasked with finding the candidates best suited for an open Data Science job.  \n",
    "You want to find candidates who are proficient in **Python**, **Tableau**, and **PostgreSQL**.\n",
    "\n",
    "Write a query to list the candidates who possess **all of the required skills** for the job.  \n",
    "Sort the output by `candidate_id` in ascending order.\n",
    "\n",
    "**Assumption:**  \n",
    "There are no duplicates in the `candidates` table.\n",
    "\n",
    "---\n",
    "\n",
    "### Table: `candidates`\n",
    "\n",
    "| Column Name   | Type     |\n",
    "|---------------|----------|\n",
    "| candidate_id  | integer  |\n",
    "| skill         | varchar  |\n",
    "\n",
    "---\n",
    "\n",
    "### Example Input:\n",
    "\n",
    "| candidate_id | skill       |\n",
    "|--------------|-------------|\n",
    "| 123          | Python      |\n",
    "| 123          | Tableau     |\n",
    "| 123          | PostgreSQL  |\n",
    "| 234          | R           |\n",
    "| 234          | PowerBI     |\n",
    "| 234          | SQL Server  |\n",
    "| 345          | Python      |\n",
    "| 345          | Tableau     |\n",
    "\n",
    "---\n",
    "\n",
    "### Example Output:\n",
    "\n",
    "| candidate_id |\n",
    "|--------------|\n",
    "| 123          |\n",
    "\n",
    "---\n",
    "\n",
    "### Explanation\n",
    "\n",
    "Candidate **123** is displayed because they have all the required skills:  \n",
    "**Python**, **Tableau**, and **PostgreSQL**.\n",
    "\n",
    "Candidate **345** is not included because they are missing **PostgreSQL**.\n"
   ]
  },
  {
   "cell_type": "code",
   "execution_count": 1,
   "metadata": {},
   "outputs": [
    {
     "name": "stdout",
     "output_type": "stream",
     "text": [
      "+---+----------+\n",
      "| _1|        _2|\n",
      "+---+----------+\n",
      "|123|    Python|\n",
      "|123|   Tableau|\n",
      "|123|PostgreSQL|\n",
      "|234|         R|\n",
      "|234|   PowerBI|\n",
      "|234|SQL Server|\n",
      "|345|    Python|\n",
      "|345|   Tableau|\n",
      "+---+----------+\n",
      "\n"
     ]
    }
   ],
   "source": [
    "from pyspark.sql import SparkSession\n",
    "from pyspark.sql.types import StructType, StructField, IntegerType, StringType\n",
    "from pyspark.sql.functions import *\n",
    "\n",
    "# Create Spark session\n",
    "spark = SparkSession.builder.master('local').appName(\"CandidateSkills\").getOrCreate()\n",
    "sc= spark.sparkContext\n",
    "\n",
    "# Define the data\n",
    "df = sc.parallelize([\n",
    "    (123, \"Python\"),\n",
    "    (123, \"Tableau\"),\n",
    "    (123, \"PostgreSQL\"),\n",
    "    (234, \"R\"),\n",
    "    (234, \"PowerBI\"),\n",
    "    (234, \"SQL Server\"),\n",
    "    (345, \"Python\"),\n",
    "    (345, \"Tableau\")\n",
    "])\n",
    "\n",
    "\n",
    "\n",
    "# Show the DataFrame\n",
    "df.toDF().show()\n"
   ]
  },
  {
   "cell_type": "code",
   "execution_count": null,
   "metadata": {},
   "outputs": [
    {
     "name": "stdout",
     "output_type": "stream",
     "text": [
      "+---+---+\n",
      "| _1| _2|\n",
      "+---+---+\n",
      "|123|  3|\n",
      "+---+---+\n",
      "\n"
     ]
    },
    {
     "ename": "",
     "evalue": "",
     "output_type": "error",
     "traceback": [
      "\u001b[1;31mThe Kernel crashed while executing code in the current cell or a previous cell. \n",
      "\u001b[1;31mPlease review the code in the cell(s) to identify a possible cause of the failure. \n",
      "\u001b[1;31mClick <a href='https://aka.ms/vscodeJupyterKernelCrash'>here</a> for more info. \n",
      "\u001b[1;31mView Jupyter <a href='command:jupyter.viewOutput'>log</a> for further details."
     ]
    }
   ],
   "source": [
    "df2=df.filter(lambda x:(x[1] in ['Python','Tableau','PostgreSQL']))\\\n",
    "      .map(lambda x:(x[0],1))\\\n",
    "      .reduceByKey(lambda x,y : x+y)\\\n",
    "      .filter(lambda x:(x[1]>2))\n",
    "      \n",
    "df2.toDF().show()"
   ]
  }
 ],
 "metadata": {
  "kernelspec": {
   "display_name": "Python 3",
   "language": "python",
   "name": "python3"
  },
  "language_info": {
   "codemirror_mode": {
    "name": "ipython",
    "version": 3
   },
   "file_extension": ".py",
   "mimetype": "text/x-python",
   "name": "python",
   "nbconvert_exporter": "python",
   "pygments_lexer": "ipython3",
   "version": "3.11.0"
  }
 },
 "nbformat": 4,
 "nbformat_minor": 2
}
