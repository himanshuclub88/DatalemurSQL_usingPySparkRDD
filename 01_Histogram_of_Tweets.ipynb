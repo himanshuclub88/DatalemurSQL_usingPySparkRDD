{
 "cells": [
  {
   "cell_type": "markdown",
   "metadata": {},
   "source": [
    "# Problem: Tweet Histogram per User in 2022\n",
    "\n",
    "**Objective:**  \n",
    "Write a SQL query to obtain a histogram of tweets posted per user in 2022.  \n",
    "Output the tweet count per user as the bucket and the number of Twitter users who fall into that bucket.\n",
    "\n",
    "---\n",
    "\n",
    "### Table: `tweets`\n",
    "\n",
    "| Column Name | Type     |\n",
    "|-------------|----------|\n",
    "| tweet_id    | integer  |\n",
    "| user_id     | integer  |\n",
    "| msg         | string   |\n",
    "| tweet_date  | timestamp|\n",
    "\n",
    "---\n",
    "\n",
    "### Example Input:\n",
    "\n",
    "| tweet_id | user_id | msg                                                         | tweet_date           |\n",
    "|----------|---------|-------------------------------------------------------------|----------------------|\n",
    "| 214252   | 111     | Am considering taking Tesla private at $420. Funding secured.| 12/30/2021 00:00:00 |\n",
    "| 739252   | 111     | Despite the constant negative press covfefe                | 01/01/2022 00:00:00 |\n",
    "| 846402   | 111     | Following @NickSinghTech on Twitter changed my life!       | 02/14/2022 00:00:00 |\n",
    "| 241425   | 254     | If the salary is so competitive why won’t you tell me?     | 03/01/2022 00:00:00 |\n",
    "| 231574   | 148     | I no longer have a manager. I can't be managed             | 03/23/2022 00:00:00 |\n",
    "\n",
    "---\n",
    "\n",
    "### Expected Output:\n",
    "\n",
    "| tweet_bucket | users_num |\n",
    "|--------------|-----------|\n",
    "| 1            | 2         |\n",
    "| 2            | 1         |\n",
    "\n",
    "---\n",
    "\n",
    "### Instructions:\n",
    "Write a query to:\n",
    "- Filter tweets from the year 2022.\n",
    "- Count how many tweets each user posted.\n",
    "- Group users by the number of tweets they posted (bucket).\n",
    "- Count the number of users in each bucket.\n"
   ]
  },
  {
   "cell_type": "code",
   "execution_count": null,
   "metadata": {},
   "outputs": [
    {
     "name": "stdout",
     "output_type": "stream",
     "text": [
      "+------+---+-----------------------------------------------------------------+-------------------+\n",
      "|_1    |_2 |_3                                                               |_4                 |\n",
      "+------+---+-----------------------------------------------------------------+-------------------+\n",
      "|214252|111|Am considering taking Tesla private at $420. Funding secured.    |2021-12-30 00:00:00|\n",
      "|739252|111|Despite the constant negative press covfefe                      |2022-01-01 00:00:00|\n",
      "|846402|111|Following @NickSinghTech on Twitter changed my life!             |2022-02-14 00:00:00|\n",
      "|241425|254|If the salary is so competitive why won’t you tell me what it is?|2022-03-01 00:00:00|\n",
      "|231574|148|I no longer have a manager. I can't be managed                   |2022-03-23 00:00:00|\n",
      "+------+---+-----------------------------------------------------------------+-------------------+\n",
      "\n"
     ]
    }
   ],
   "source": [
    "from pyspark.sql import SparkSession\n",
    "from datetime import datetime\n",
    "# Create Spark session\n",
    "spark = SparkSession.builder.master('local[1]').getOrCreate()\n",
    "sc = spark.sparkContext\n",
    "\n",
    "\n",
    "\n",
    "# Define the data\n",
    "df = sc.parallelize([\n",
    "    (214252, 111, \"Am considering taking Tesla private at $420. Funding secured.\", datetime(2021, 12, 30, 0, 0)),\n",
    "    (739252, 111, \"Despite the constant negative press covfefe\", datetime(2022, 1, 1, 0, 0)),\n",
    "    (846402, 111, \"Following @NickSinghTech on Twitter changed my life!\", datetime(2022, 2, 14, 0, 0)),\n",
    "    (241425, 254, \"If the salary is so competitive why won’t you tell me what it is?\", datetime(2022, 3, 1, 0, 0)),\n",
    "    (231574, 148, \"I no longer have a manager. I can't be managed\", datetime(2022, 3, 23, 0, 0))\n",
    "])\n",
    "\n",
    "df.toDF().show(truncate=False)\n",
    "\n"
   ]
  },
  {
   "cell_type": "code",
   "execution_count": 52,
   "metadata": {},
   "outputs": [
    {
     "name": "stdout",
     "output_type": "stream",
     "text": [
      "+------------+---------+\n",
      "|tweet_bucket|users_num|\n",
      "+------------+---------+\n",
      "|           2|        1|\n",
      "|           1|        2|\n",
      "+------------+---------+\n",
      "\n"
     ]
    }
   ],
   "source": [
    "#in RDD\n",
    "df2 = df\\\n",
    "        .filter(lambda x: x[3].year == 2022)\\\n",
    "        .map(lambda x: (x[1],1))\\\n",
    "        .reduceByKey(lambda x,y: (x+y))\\\n",
    "        .map(lambda x:(x[1],1))\\\n",
    "        .reduceByKey(lambda x,y: (x+y))\n",
    "\n",
    "df2.toDF(['tweet_bucket','users_num']).show()"
   ]
  },
  {
   "cell_type": "code",
   "execution_count": null,
   "metadata": {},
   "outputs": [],
   "source": []
  },
  {
   "cell_type": "code",
   "execution_count": null,
   "metadata": {},
   "outputs": [],
   "source": [
    "%%sql\n"
   ]
  }
 ],
 "metadata": {
  "kernelspec": {
   "display_name": "Python 3",
   "language": "python",
   "name": "python3"
  },
  "language_info": {
   "codemirror_mode": {
    "name": "ipython",
    "version": 3
   },
   "file_extension": ".py",
   "mimetype": "text/x-python",
   "name": "python",
   "nbconvert_exporter": "python",
   "pygments_lexer": "ipython3",
   "version": "3.11.0"
  }
 },
 "nbformat": 4,
 "nbformat_minor": 2
}
