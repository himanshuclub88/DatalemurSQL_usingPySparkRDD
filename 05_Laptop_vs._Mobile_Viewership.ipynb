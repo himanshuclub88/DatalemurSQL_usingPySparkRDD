{
 "cells": [
  {
   "cell_type": "markdown",
   "metadata": {},
   "source": [
    "# Laptop vs. Mobile Viewership\n",
    "\n",
    "## NY Times SQL Interview Question\n",
    "\n",
    "### Question\n",
    "\n",
    "This is the same question as problem #3 in the SQL Chapter of Ace the Data Science Interview!\n",
    "\n",
    "Assume you're given the table on user viewership categorized by device type where the three types are laptop, tablet, and phone.\n",
    "\n",
    "Write a query that calculates the total viewership for laptops and mobile devices where mobile is defined as the sum of tablet and phone viewership. Output the total viewership for laptops as `laptop_reviews` and the total viewership for mobile devices as `mobile_views`.\n",
    "\n",
    "---\n",
    "\n",
    "### Effective 15 April 2023, the solution has been updated with a more concise and easy-to-understand approach.\n",
    "\n",
    "---\n",
    "\n",
    "### Table: `viewership`\n",
    "\n",
    "| Column Name | Type     |\n",
    "|-------------|----------|\n",
    "| user_id     | integer  |\n",
    "| device_type | string   |\n",
    "| view_time   | timestamp|\n",
    "\n",
    "---\n",
    "\n",
    "### Example Input for `viewership` Table:\n",
    "\n",
    "| user_id | device_type | view_time           |\n",
    "|---------|-------------|---------------------|\n",
    "| 123     | tablet      | 01/02/2022 00:00:00 |\n",
    "| 125     | laptop      | 01/07/2022 00:00:00 |\n",
    "| 128     | laptop      | 02/09/2022 00:00:00 |\n",
    "| 129     | phone       | 02/09/2022 00:00:00 |\n",
    "| 145     | tablet      | 02/24/2022 00:00:00 |\n",
    "\n",
    "---\n",
    "\n",
    "### Example Output:\n",
    "\n",
    "| laptop_views | mobile_views |\n",
    "|--------------|--------------|\n",
    "| 2            | 3            |\n",
    "\n",
    "---\n",
    "\n",
    "### Explanation\n",
    "\n",
    "Based on the example input, there are a total of **2 laptop views** and **3 mobile views** (the sum of tablet and phone views).\n"
   ]
  },
  {
   "cell_type": "code",
   "execution_count": 1,
   "metadata": {},
   "outputs": [
    {
     "name": "stdout",
     "output_type": "stream",
     "text": [
      "+---+------+-------------------+\n",
      "|_1 |_2    |_3                 |\n",
      "+---+------+-------------------+\n",
      "|123|tablet|2022-01-02 00:00:00|\n",
      "|125|laptop|2022-01-07 00:00:00|\n",
      "|128|laptop|2022-02-09 00:00:00|\n",
      "|129|phone |2022-02-09 00:00:00|\n",
      "|145|tablet|2022-02-24 00:00:00|\n",
      "+---+------+-------------------+\n",
      "\n"
     ]
    }
   ],
   "source": [
    "from pyspark.sql import SparkSession\n",
    "from pyspark.sql.types import StructType, StructField, IntegerType, StringType, TimestampType\n",
    "from datetime import datetime\n",
    "\n",
    "# Create Spark session\n",
    "spark = SparkSession.builder.master('local[1]').getOrCreate()\n",
    "sc = spark.sparkContext\n",
    "\n",
    "# Define the data for viewership table\n",
    "df = sc.parallelize([\n",
    "    (123, \"tablet\", datetime(2022, 1, 2, 0, 0)),\n",
    "    (125, \"laptop\", datetime(2022, 1, 7, 0, 0)),\n",
    "    (128, \"laptop\", datetime(2022, 2, 9, 0, 0)),\n",
    "    (129, \"phone\", datetime(2022, 2, 9, 0, 0)),\n",
    "    (145, \"tablet\", datetime(2022, 2, 24, 0, 0))\n",
    "])\n",
    "\n",
    "\n",
    "\n",
    "# Show the DataFrame\n",
    "df.toDF().show(truncate=False)\n"
   ]
  },
  {
   "cell_type": "code",
   "execution_count": 2,
   "metadata": {},
   "outputs": [
    {
     "name": "stdout",
     "output_type": "stream",
     "text": [
      "[('tablet', 2), ('laptop', 2), ('phone', 1)]\n"
     ]
    }
   ],
   "source": [
    "df2=df.map(lambda x: (x[1],1))\\\n",
    "      .reduceByKey(lambda x,y: x+y)\n",
    "print(df2.collect())\n"
   ]
  }
 ],
 "metadata": {
  "kernelspec": {
   "display_name": "Python 3",
   "language": "python",
   "name": "python3"
  },
  "language_info": {
   "codemirror_mode": {
    "name": "ipython",
    "version": 3
   },
   "file_extension": ".py",
   "mimetype": "text/x-python",
   "name": "python",
   "nbconvert_exporter": "python",
   "pygments_lexer": "ipython3",
   "version": "3.11.0"
  }
 },
 "nbformat": 4,
 "nbformat_minor": 2
}
