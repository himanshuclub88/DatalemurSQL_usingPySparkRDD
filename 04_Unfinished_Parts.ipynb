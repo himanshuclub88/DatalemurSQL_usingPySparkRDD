{
 "cells": [
  {
   "cell_type": "markdown",
   "metadata": {},
   "source": [
    "# Unfinished Parts\n",
    "\n",
    "## Tesla SQL Interview Question\n",
    "\n",
    "### Question\n",
    "\n",
    "Tesla is investigating production bottlenecks and they need your help to extract the relevant data.  \n",
    "Write a query to determine which parts have begun the assembly process but are not yet finished.\n",
    "\n",
    "---\n",
    "\n",
    "### Assumptions:\n",
    "\n",
    "- `parts_assembly` table contains all parts currently in production, each at varying stages of the assembly process.\n",
    "- An unfinished part is one that lacks a `finish_date`.\n",
    "\n",
    "This question is straightforward, so let's approach it with simplicity in both thinking and solution.\n",
    "\n",
    "---\n",
    "\n",
    "### Table: `parts_assembly`\n",
    "\n",
    "| Column Name    | Type     |\n",
    "|----------------|----------|\n",
    "| part           | string   |\n",
    "| finish_date    | datetime |\n",
    "| assembly_step  | integer  |\n",
    "\n",
    "---\n",
    "\n",
    "### Example Input for `parts_assembly` Table:\n",
    "\n",
    "| part    | finish_date           | assembly_step |\n",
    "|---------|-----------------------|---------------|\n",
    "| battery | 01/22/2022 00:00:00   | 1             |\n",
    "| battery | 02/22/2022 00:00:00   | 2             |\n",
    "| battery | 03/22/2022 00:00:00   | 3             |\n",
    "| bumper  | 01/22/2022 00:00:00   | 1             |\n",
    "| bumper  | 02/22/2022 00:00:00   | 2             |\n",
    "| bumper  | NULL                  | 3             |\n",
    "| bumper  | NULL                  | 4             |\n",
    "\n",
    "---\n",
    "\n",
    "### Example Output:\n",
    "\n",
    "| part   | assembly_step |\n",
    "|--------|---------------|\n",
    "| bumper | 3             |\n",
    "| bumper | 4             |\n",
    "\n",
    "---\n",
    "\n",
    "### Explanation\n",
    "\n",
    "The bumpers in **step 3** and **step 4** are the only items that remain unfinished, as they lack a recorded `finish_date`.\n"
   ]
  },
  {
   "cell_type": "code",
   "execution_count": 3,
   "metadata": {},
   "outputs": [
    {
     "name": "stdout",
     "output_type": "stream",
     "text": [
      "+-------+-------------------+---+\n",
      "|_1     |_2                 |_3 |\n",
      "+-------+-------------------+---+\n",
      "|battery|2022-01-22 00:00:00|1  |\n",
      "|battery|2022-02-22 00:00:00|2  |\n",
      "|battery|2022-03-22 00:00:00|3  |\n",
      "|bumper |2022-01-22 00:00:00|1  |\n",
      "|bumper |2022-02-22 00:00:00|2  |\n",
      "|bumper |NULL               |3  |\n",
      "|bumper |NULL               |4  |\n",
      "+-------+-------------------+---+\n",
      "\n"
     ]
    }
   ],
   "source": [
    "from pyspark.sql import SparkSession\n",
    "from pyspark.sql.types import StructType, StructField, StringType, IntegerType, TimestampType\n",
    "from datetime import datetime\n",
    "\n",
    "# Create Spark session\n",
    "spark = SparkSession.builder.master('local[1]').getOrCreate()\n",
    "sc = spark.sparkContext\n",
    "\n",
    "# Define the data for parts_assembly table\n",
    "df = sc.parallelize([\n",
    "    (\"battery\", datetime(2022, 1, 22, 0, 0), 1),\n",
    "    (\"battery\", datetime(2022, 2, 22, 0, 0), 2),\n",
    "    (\"battery\", datetime(2022, 3, 22, 0, 0), 3),\n",
    "    (\"bumper\", datetime(2022, 1, 22, 0, 0), 1),\n",
    "    (\"bumper\", datetime(2022, 2, 22, 0, 0), 2),\n",
    "    (\"bumper\", None, 3),\n",
    "    (\"bumper\", None, 4)\n",
    "])\n",
    "\n",
    "\n",
    "# Show the DataFrame\n",
    "df.toDF().show(truncate=False)\n"
   ]
  },
  {
   "cell_type": "code",
   "execution_count": null,
   "metadata": {},
   "outputs": [
    {
     "name": "stdout",
     "output_type": "stream",
     "text": [
      "+------+-------------+\n",
      "|  part|assembly_step|\n",
      "+------+-------------+\n",
      "|bumper|            3|\n",
      "|bumper|            4|\n",
      "+------+-------------+\n",
      "\n"
     ]
    },
    {
     "ename": "",
     "evalue": "",
     "output_type": "error",
     "traceback": [
      "\u001b[1;31mThe Kernel crashed while executing code in the current cell or a previous cell. \n",
      "\u001b[1;31mPlease review the code in the cell(s) to identify a possible cause of the failure. \n",
      "\u001b[1;31mClick <a href='https://aka.ms/vscodeJupyterKernelCrash'>here</a> for more info. \n",
      "\u001b[1;31mView Jupyter <a href='command:jupyter.viewOutput'>log</a> for further details."
     ]
    }
   ],
   "source": [
    "df2=df\\\n",
    "    .filter(lambda x: (x[1] is None))\\\n",
    "    .map(lambda x: (x[0],x[2]))\\\n",
    "    \n",
    "df2.toDF(['part','assembly_step']).show()\n",
    "\n"
   ]
  }
 ],
 "metadata": {
  "kernelspec": {
   "display_name": "Python 3",
   "language": "python",
   "name": "python3"
  },
  "language_info": {
   "codemirror_mode": {
    "name": "ipython",
    "version": 3
   },
   "file_extension": ".py",
   "mimetype": "text/x-python",
   "name": "python",
   "nbconvert_exporter": "python",
   "pygments_lexer": "ipython3",
   "version": "3.11.0"
  }
 },
 "nbformat": 4,
 "nbformat_minor": 2
}
