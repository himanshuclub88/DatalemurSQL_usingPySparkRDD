{
 "cells": [
  {
   "cell_type": "markdown",
   "metadata": {},
   "source": [
    "# Page With No Likes\n",
    "\n",
    "## Facebook SQL Interview Question\n",
    "\n",
    "### Question\n",
    "\n",
    "Assume you're given two tables containing data about Facebook Pages and their respective likes (as in \"Like a Facebook Page\").\n",
    "\n",
    "Write a query to return the IDs of the Facebook pages that have zero likes. The output should be sorted in ascending order based on the page IDs.\n",
    "\n",
    "---\n",
    "\n",
    "### Table: `pages`\n",
    "\n",
    "| Column Name | Type     |\n",
    "|-------------|----------|\n",
    "| page_id     | integer  |\n",
    "| page_name   | varchar  |\n",
    "\n",
    "---\n",
    "\n",
    "### Example Input for `pages` Table:\n",
    "\n",
    "| page_id | page_name            |\n",
    "|---------|----------------------|\n",
    "| 20001   | SQL Solutions        |\n",
    "| 20045   | Brain Exercises      |\n",
    "| 20701   | Tips for Data Analysts |\n",
    "\n",
    "---\n",
    "\n",
    "### Table: `page_likes`\n",
    "\n",
    "| Column Name | Type      |\n",
    "|-------------|-----------|\n",
    "| user_id     | integer   |\n",
    "| page_id     | integer   |\n",
    "| liked_date  | datetime  |\n",
    "\n",
    "---\n",
    "\n",
    "### Example Input for `page_likes` Table:\n",
    "\n",
    "| user_id | page_id | liked_date           |\n",
    "|---------|---------|----------------------|\n",
    "| 111     | 20001   | 04/08/2022 00:00:00  |\n",
    "| 121     | 20045   | 03/12/2022 00:00:00  |\n",
    "| 156     | 20001   | 07/25/2022 00:00:00  |\n",
    "\n",
    "---\n",
    "\n",
    "### Example Output:\n",
    "\n",
    "| page_id |\n",
    "|---------|\n",
    "| 20701   |\n",
    "\n",
    "---\n",
    "\n",
    "### Explanation\n",
    "\n",
    "Page **20701** is returned because it has **zero likes** in the `page_likes` table. All other pages have at least one like.\n"
   ]
  },
  {
   "cell_type": "code",
   "execution_count": 2,
   "metadata": {},
   "outputs": [
    {
     "name": "stdout",
     "output_type": "stream",
     "text": [
      "+-----+--------------------+\n",
      "|   _1|                  _2|\n",
      "+-----+--------------------+\n",
      "|20001|       SQL Solutions|\n",
      "|20045|     Brain Exercises|\n",
      "|20701|Tips for Data Ana...|\n",
      "+-----+--------------------+\n",
      "\n",
      "+---+-----+-------------------+\n",
      "| _1|   _2|                 _3|\n",
      "+---+-----+-------------------+\n",
      "|111|20001|2022-04-08 00:00:00|\n",
      "|121|20045|2022-03-12 00:00:00|\n",
      "|156|20001|2022-07-25 00:00:00|\n",
      "+---+-----+-------------------+\n",
      "\n"
     ]
    }
   ],
   "source": [
    "from pyspark.sql import SparkSession\n",
    "from pyspark.sql.types import StructType, StructField, IntegerType, StringType, TimestampType\n",
    "from datetime import datetime\n",
    "\n",
    "# Create Spark session\n",
    "spark = SparkSession.builder.master('local').appName(\"FacebookPages\").getOrCreate()\n",
    "sc = spark.sparkContext\n",
    "\n",
    "\n",
    "# Define the data for pages table\n",
    "pages = sc.parallelize([\n",
    "    (20001, \"SQL Solutions\"),\n",
    "    (20045, \"Brain Exercises\"),\n",
    "    (20701, \"Tips for Data Analysts\")\n",
    "])\n",
    "\n",
    "# Define the data for page_likes table\n",
    "page_likes = sc.parallelize([\n",
    "    (111, 20001, datetime(2022, 4, 8, 0, 0)),\n",
    "    (121, 20045, datetime(2022, 3, 12, 0, 0)),\n",
    "    (156, 20001, datetime(2022, 7, 25, 0, 0))\n",
    "])\n",
    "\n",
    "# Show the DataFrames\n",
    "pages.toDF().show()\n",
    "page_likes.toDF().show()"
   ]
  },
  {
   "cell_type": "code",
   "execution_count": null,
   "metadata": {},
   "outputs": [
    {
     "name": "stdout",
     "output_type": "stream",
     "text": [
      "+-------+\n",
      "|page_id|\n",
      "+-------+\n",
      "|  20701|\n",
      "+-------+\n",
      "\n"
     ]
    },
    {
     "ename": "",
     "evalue": "",
     "output_type": "error",
     "traceback": [
      "\u001b[1;31mThe Kernel crashed while executing code in the current cell or a previous cell. \n",
      "\u001b[1;31mPlease review the code in the cell(s) to identify a possible cause of the failure. \n",
      "\u001b[1;31mClick <a href='https://aka.ms/vscodeJupyterKernelCrash'>here</a> for more info. \n",
      "\u001b[1;31mView Jupyter <a href='command:jupyter.viewOutput'>log</a> for further details."
     ]
    }
   ],
   "source": [
    "df = pages.leftOuterJoin(page_likes.map(lambda x:(x[1],x[0])))\\\n",
    "          .filter(lambda x:(x[1][1] is None))\\\n",
    "          .map(lambda x:(x[0],))  # <- note the comma to make it a tuple\n",
    "\n",
    "\n",
    "df.toDF(['page_id']).show()"
   ]
  }
 ],
 "metadata": {
  "kernelspec": {
   "display_name": "Python 3",
   "language": "python",
   "name": "python3"
  },
  "language_info": {
   "codemirror_mode": {
    "name": "ipython",
    "version": 3
   },
   "file_extension": ".py",
   "mimetype": "text/x-python",
   "name": "python",
   "nbconvert_exporter": "python",
   "pygments_lexer": "ipython3",
   "version": "3.11.0"
  }
 },
 "nbformat": 4,
 "nbformat_minor": 2
}
